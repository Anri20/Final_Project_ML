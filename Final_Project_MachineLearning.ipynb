{
 "cells": [
  {
   "cell_type": "code",
   "execution_count": 19,
   "id": "3c6a9b53",
   "metadata": {},
   "outputs": [],
   "source": [
    "# Import The Libraries\n",
    "# ! pip install xlrd\n",
    "import pandas as pd\n",
    "import matplotlib.pyplot as plt\n",
    "import numpy as np\n",
    "\n",
    "# Import The Dataset\n",
    "df = pd.read_excel('OnlineRetailDataset.xlsx')\n",
    "df = df[df['CustomerID'].notna()]\n",
    "# Sample the dataset\n",
    "df_fix = df.sample(500, random_state=50)"
   ]
  },
  {
   "cell_type": "code",
   "execution_count": 20,
   "id": "8c4fcd13",
   "metadata": {},
   "outputs": [
    {
     "data": {
      "text/html": [
       "<div>\n",
       "<style scoped>\n",
       "    .dataframe tbody tr th:only-of-type {\n",
       "        vertical-align: middle;\n",
       "    }\n",
       "\n",
       "    .dataframe tbody tr th {\n",
       "        vertical-align: top;\n",
       "    }\n",
       "\n",
       "    .dataframe thead th {\n",
       "        text-align: right;\n",
       "    }\n",
       "</style>\n",
       "<table border=\"1\" class=\"dataframe\">\n",
       "  <thead>\n",
       "    <tr style=\"text-align: right;\">\n",
       "      <th></th>\n",
       "      <th>InvoiceNo</th>\n",
       "      <th>StockCode</th>\n",
       "      <th>Description</th>\n",
       "      <th>Quantity</th>\n",
       "      <th>InvoiceDate</th>\n",
       "      <th>UnitPrice</th>\n",
       "      <th>CustomerID</th>\n",
       "      <th>Country</th>\n",
       "    </tr>\n",
       "  </thead>\n",
       "  <tbody>\n",
       "    <tr>\n",
       "      <th>350946</th>\n",
       "      <td>567656</td>\n",
       "      <td>21084</td>\n",
       "      <td>SET/6 COLLAGE PAPER CUPS</td>\n",
       "      <td>4</td>\n",
       "      <td>2011-09-21 14:40:00</td>\n",
       "      <td>0.83</td>\n",
       "      <td>14096.0</td>\n",
       "      <td>United Kingdom</td>\n",
       "    </tr>\n",
       "    <tr>\n",
       "      <th>324678</th>\n",
       "      <td>565411</td>\n",
       "      <td>85135C</td>\n",
       "      <td>RED DRAGONFLY HELICOPTER</td>\n",
       "      <td>1</td>\n",
       "      <td>2011-09-04 11:22:00</td>\n",
       "      <td>7.95</td>\n",
       "      <td>13772.0</td>\n",
       "      <td>United Kingdom</td>\n",
       "    </tr>\n",
       "    <tr>\n",
       "      <th>370553</th>\n",
       "      <td>569140</td>\n",
       "      <td>21485</td>\n",
       "      <td>RETROSPOT HEART HOT WATER BOTTLE</td>\n",
       "      <td>3</td>\n",
       "      <td>2011-09-30 14:59:00</td>\n",
       "      <td>4.95</td>\n",
       "      <td>14503.0</td>\n",
       "      <td>United Kingdom</td>\n",
       "    </tr>\n",
       "    <tr>\n",
       "      <th>12134</th>\n",
       "      <td>537369</td>\n",
       "      <td>72807B</td>\n",
       "      <td>SET/3 OCEAN SCENT CANDLE JEWEL BOX</td>\n",
       "      <td>1</td>\n",
       "      <td>2010-12-06 12:41:00</td>\n",
       "      <td>4.25</td>\n",
       "      <td>17860.0</td>\n",
       "      <td>United Kingdom</td>\n",
       "    </tr>\n",
       "    <tr>\n",
       "      <th>461522</th>\n",
       "      <td>575944</td>\n",
       "      <td>23486</td>\n",
       "      <td>ANTIQUE HEART SHELF UNIT</td>\n",
       "      <td>2</td>\n",
       "      <td>2011-11-13 11:46:00</td>\n",
       "      <td>16.65</td>\n",
       "      <td>16571.0</td>\n",
       "      <td>United Kingdom</td>\n",
       "    </tr>\n",
       "  </tbody>\n",
       "</table>\n",
       "</div>"
      ],
      "text/plain": [
       "       InvoiceNo StockCode                         Description  Quantity  \\\n",
       "350946    567656     21084            SET/6 COLLAGE PAPER CUPS         4   \n",
       "324678    565411    85135C            RED DRAGONFLY HELICOPTER         1   \n",
       "370553    569140     21485    RETROSPOT HEART HOT WATER BOTTLE         3   \n",
       "12134     537369    72807B  SET/3 OCEAN SCENT CANDLE JEWEL BOX         1   \n",
       "461522    575944     23486            ANTIQUE HEART SHELF UNIT         2   \n",
       "\n",
       "               InvoiceDate  UnitPrice  CustomerID         Country  \n",
       "350946 2011-09-21 14:40:00       0.83     14096.0  United Kingdom  \n",
       "324678 2011-09-04 11:22:00       7.95     13772.0  United Kingdom  \n",
       "370553 2011-09-30 14:59:00       4.95     14503.0  United Kingdom  \n",
       "12134  2010-12-06 12:41:00       4.25     17860.0  United Kingdom  \n",
       "461522 2011-11-13 11:46:00      16.65     16571.0  United Kingdom  "
      ]
     },
     "execution_count": 20,
     "metadata": {},
     "output_type": "execute_result"
    }
   ],
   "source": [
    "df_fix.head()"
   ]
  },
  {
   "cell_type": "code",
   "execution_count": 21,
   "id": "b0631e23",
   "metadata": {},
   "outputs": [
    {
     "data": {
      "text/html": [
       "<div>\n",
       "<style scoped>\n",
       "    .dataframe tbody tr th:only-of-type {\n",
       "        vertical-align: middle;\n",
       "    }\n",
       "\n",
       "    .dataframe tbody tr th {\n",
       "        vertical-align: top;\n",
       "    }\n",
       "\n",
       "    .dataframe thead th {\n",
       "        text-align: right;\n",
       "    }\n",
       "</style>\n",
       "<table border=\"1\" class=\"dataframe\">\n",
       "  <thead>\n",
       "    <tr style=\"text-align: right;\">\n",
       "      <th></th>\n",
       "      <th>Recency</th>\n",
       "      <th>Frequency</th>\n",
       "      <th>MonetaryValue</th>\n",
       "    </tr>\n",
       "    <tr>\n",
       "      <th>CustomerID</th>\n",
       "      <th></th>\n",
       "      <th></th>\n",
       "      <th></th>\n",
       "    </tr>\n",
       "  </thead>\n",
       "  <tbody>\n",
       "    <tr>\n",
       "      <th>12349.0</th>\n",
       "      <td>19</td>\n",
       "      <td>1</td>\n",
       "      <td>19.90</td>\n",
       "    </tr>\n",
       "    <tr>\n",
       "      <th>12357.0</th>\n",
       "      <td>33</td>\n",
       "      <td>1</td>\n",
       "      <td>106.20</td>\n",
       "    </tr>\n",
       "    <tr>\n",
       "      <th>12378.0</th>\n",
       "      <td>130</td>\n",
       "      <td>1</td>\n",
       "      <td>19.80</td>\n",
       "    </tr>\n",
       "    <tr>\n",
       "      <th>12380.0</th>\n",
       "      <td>186</td>\n",
       "      <td>1</td>\n",
       "      <td>14.75</td>\n",
       "    </tr>\n",
       "    <tr>\n",
       "      <th>12394.0</th>\n",
       "      <td>217</td>\n",
       "      <td>1</td>\n",
       "      <td>10.00</td>\n",
       "    </tr>\n",
       "  </tbody>\n",
       "</table>\n",
       "</div>"
      ],
      "text/plain": [
       "            Recency  Frequency  MonetaryValue\n",
       "CustomerID                                   \n",
       "12349.0          19          1          19.90\n",
       "12357.0          33          1         106.20\n",
       "12378.0         130          1          19.80\n",
       "12380.0         186          1          14.75\n",
       "12394.0         217          1          10.00"
      ]
     },
     "execution_count": 21,
     "metadata": {},
     "output_type": "execute_result"
    }
   ],
   "source": [
    "# Convert to show date only\n",
    "from datetime import datetime\n",
    "df_fix[\"InvoiceDate\"] = pd.to_datetime(df['InvoiceDate'], errors='coerce')\n",
    "\n",
    "# Create TotalSum colummn\n",
    "df_fix[\"TotalSum\"] = df_fix[\"Quantity\"] * df_fix[\"UnitPrice\"]\n",
    "\n",
    "# Create date variable that records recency\n",
    "import datetime\n",
    "snapshot_date = max(df_fix.InvoiceDate) + datetime.timedelta(days=1)\n",
    "\n",
    "# Aggregate data by each customer\n",
    "customers = df_fix.groupby(['CustomerID']).agg({\n",
    "    'InvoiceDate': lambda x: (snapshot_date - x.max()).days,\n",
    "    'InvoiceNo': 'count',\n",
    "    'TotalSum': 'sum'})\n",
    "\n",
    "# Rename columns\n",
    "customers.rename(columns = {'InvoiceDate': 'Recency',\n",
    "                            'InvoiceNo': 'Frequency',\n",
    "                            'TotalSum': 'MonetaryValue'}, inplace=True)\n",
    "customers.head()"
   ]
  },
  {
   "cell_type": "code",
   "execution_count": 24,
   "id": "39107167",
   "metadata": {},
   "outputs": [
    {
     "data": {
      "text/plain": [
       "<BarContainer object of 402 artists>"
      ]
     },
     "execution_count": 24,
     "metadata": {},
     "output_type": "execute_result"
    },
    {
     "data": {
      "image/png": "[encoded data removed]",
      "text/plain": [
       "<Figure size 432x288 with 1 Axes>"
      ]
     },
     "metadata": {
      "needs_background": "light"
     },
     "output_type": "display_data"
    }
   ],
   "source": [
    "plt.bar(customers, customers[\"Recency\"])"
   ]
  }
 ],
 "metadata": {
  "kernelspec": {
   "display_name": "Python 3 (ipykernel)",
   "language": "python",
   "name": "python3"
  },
  "language_info": {
   "codemirror_mode": {
    "name": "ipython",
    "version": 3
   },
   "file_extension": ".py",
   "mimetype": "text/x-python",
   "name": "python",
   "nbconvert_exporter": "python",
   "pygments_lexer": "ipython3",
   "version": "3.9.12"
  }
 },
 "nbformat": 4,
 "nbformat_minor": 5
}
